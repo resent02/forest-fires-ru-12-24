{
 "cells": [
  {
   "cell_type": "markdown",
   "metadata": {},
   "source": [
    "# Разведывательный Анализ Данных по Пожарам В Росси в промежутках 2012-2021\n",
    "\n",
    "Установка необходимых библиотек для обработки и визуализации данных"
   ]
  },
  {
   "cell_type": "code",
   "execution_count": null,
   "metadata": {},
   "outputs": [],
   "source": [
    "%pip install pandas matplotlib"
   ]
  },
  {
   "cell_type": "markdown",
   "metadata": {},
   "source": [
    "Импортирование библиотек и дескриптивный анализ данных"
   ]
  },
  {
   "cell_type": "code",
   "execution_count": 28,
   "metadata": {},
   "outputs": [
    {
     "data": {
      "text/html": [
       "<div>\n",
       "<style scoped>\n",
       "    .dataframe tbody tr th:only-of-type {\n",
       "        vertical-align: middle;\n",
       "    }\n",
       "\n",
       "    .dataframe tbody tr th {\n",
       "        vertical-align: top;\n",
       "    }\n",
       "\n",
       "    .dataframe thead th {\n",
       "        text-align: right;\n",
       "    }\n",
       "</style>\n",
       "<table border=\"1\" class=\"dataframe\">\n",
       "  <thead>\n",
       "    <tr style=\"text-align: right;\">\n",
       "      <th></th>\n",
       "      <th>dt</th>\n",
       "      <th>type_id</th>\n",
       "      <th>lon</th>\n",
       "      <th>lat</th>\n",
       "    </tr>\n",
       "  </thead>\n",
       "  <tbody>\n",
       "    <tr>\n",
       "      <th>count</th>\n",
       "      <td>660254</td>\n",
       "      <td>660254.000000</td>\n",
       "      <td>660254.000000</td>\n",
       "      <td>660254.000000</td>\n",
       "    </tr>\n",
       "    <tr>\n",
       "      <th>mean</th>\n",
       "      <td>2018-05-22 01:15:19.206244608</td>\n",
       "      <td>2.986440</td>\n",
       "      <td>107.801006</td>\n",
       "      <td>57.051505</td>\n",
       "    </tr>\n",
       "    <tr>\n",
       "      <th>min</th>\n",
       "      <td>2012-03-13 00:00:00</td>\n",
       "      <td>1.000000</td>\n",
       "      <td>19.862200</td>\n",
       "      <td>41.262800</td>\n",
       "    </tr>\n",
       "    <tr>\n",
       "      <th>25%</th>\n",
       "      <td>2016-04-19 00:00:00</td>\n",
       "      <td>3.000000</td>\n",
       "      <td>90.818025</td>\n",
       "      <td>52.545525</td>\n",
       "    </tr>\n",
       "    <tr>\n",
       "      <th>50%</th>\n",
       "      <td>2019-04-30 00:00:00</td>\n",
       "      <td>3.000000</td>\n",
       "      <td>114.998500</td>\n",
       "      <td>56.475800</td>\n",
       "    </tr>\n",
       "    <tr>\n",
       "      <th>75%</th>\n",
       "      <td>2020-08-21 00:00:00</td>\n",
       "      <td>4.000000</td>\n",
       "      <td>130.690300</td>\n",
       "      <td>62.481900</td>\n",
       "    </tr>\n",
       "    <tr>\n",
       "      <th>max</th>\n",
       "      <td>2021-09-10 00:00:00</td>\n",
       "      <td>5.000000</td>\n",
       "      <td>178.435100</td>\n",
       "      <td>72.741400</td>\n",
       "    </tr>\n",
       "    <tr>\n",
       "      <th>std</th>\n",
       "      <td>NaN</td>\n",
       "      <td>1.303698</td>\n",
       "      <td>29.403420</td>\n",
       "      <td>6.305286</td>\n",
       "    </tr>\n",
       "  </tbody>\n",
       "</table>\n",
       "</div>"
      ],
      "text/plain": [
       "                                  dt        type_id            lon  \\\n",
       "count                         660254  660254.000000  660254.000000   \n",
       "mean   2018-05-22 01:15:19.206244608       2.986440     107.801006   \n",
       "min              2012-03-13 00:00:00       1.000000      19.862200   \n",
       "25%              2016-04-19 00:00:00       3.000000      90.818025   \n",
       "50%              2019-04-30 00:00:00       3.000000     114.998500   \n",
       "75%              2020-08-21 00:00:00       4.000000     130.690300   \n",
       "max              2021-09-10 00:00:00       5.000000     178.435100   \n",
       "std                              NaN       1.303698      29.403420   \n",
       "\n",
       "                 lat  \n",
       "count  660254.000000  \n",
       "mean       57.051505  \n",
       "min        41.262800  \n",
       "25%        52.545525  \n",
       "50%        56.475800  \n",
       "75%        62.481900  \n",
       "max        72.741400  \n",
       "std         6.305286  "
      ]
     },
     "execution_count": 28,
     "metadata": {},
     "output_type": "execute_result"
    }
   ],
   "source": [
    "import pandas as pd \n",
    "import matplotlib.pyplot as plt\n",
    "\n",
    "data = pd.read_csv(\"data/thermopoints.csv\", delimiter=\";\")\n",
    "data['dt'] = pd.to_datetime(data['dt'])\n",
    "data.describe()"
   ]
  },
  {
   "cell_type": "code",
   "execution_count": 34,
   "metadata": {},
   "outputs": [
    {
     "data": {
      "text/html": [
       "<div>\n",
       "<style scoped>\n",
       "    .dataframe tbody tr th:only-of-type {\n",
       "        vertical-align: middle;\n",
       "    }\n",
       "\n",
       "    .dataframe tbody tr th {\n",
       "        vertical-align: top;\n",
       "    }\n",
       "\n",
       "    .dataframe thead th {\n",
       "        text-align: right;\n",
       "    }\n",
       "</style>\n",
       "<table border=\"1\" class=\"dataframe\">\n",
       "  <thead>\n",
       "    <tr style=\"text-align: right;\">\n",
       "      <th></th>\n",
       "      <th>year</th>\n",
       "      <th>fire_count</th>\n",
       "    </tr>\n",
       "  </thead>\n",
       "  <tbody>\n",
       "    <tr>\n",
       "      <th>0</th>\n",
       "      <td>2012</td>\n",
       "      <td>26577</td>\n",
       "    </tr>\n",
       "    <tr>\n",
       "      <th>1</th>\n",
       "      <td>2013</td>\n",
       "      <td>24118</td>\n",
       "    </tr>\n",
       "    <tr>\n",
       "      <th>2</th>\n",
       "      <td>2014</td>\n",
       "      <td>58898</td>\n",
       "    </tr>\n",
       "    <tr>\n",
       "      <th>3</th>\n",
       "      <td>2015</td>\n",
       "      <td>47598</td>\n",
       "    </tr>\n",
       "    <tr>\n",
       "      <th>4</th>\n",
       "      <td>2016</td>\n",
       "      <td>59905</td>\n",
       "    </tr>\n",
       "  </tbody>\n",
       "</table>\n",
       "</div>"
      ],
      "text/plain": [
       "   year  fire_count\n",
       "0  2012       26577\n",
       "1  2013       24118\n",
       "2  2014       58898\n",
       "3  2015       47598\n",
       "4  2016       59905"
      ]
     },
     "execution_count": 34,
     "metadata": {},
     "output_type": "execute_result"
    }
   ],
   "source": [
    "data['year'] = data['dt'].dt.year\n",
    "fires_per_year = data.groupby('year').size().reset_index(name=\"fire_count\")\n",
    "fires_per_year.head()"
   ]
  },
  {
   "cell_type": "code",
   "execution_count": 39,
   "metadata": {},
   "outputs": [
    {
     "data": {
      "image/png": "[encoded data removed]",
      "text/plain": [
       "<Figure size 1000x600 with 1 Axes>"
      ]
     },
     "metadata": {},
     "output_type": "display_data"
    }
   ],
   "source": [
    "plt.figure(figsize=(10,6))\n",
    "plt.bar(fires_per_year['year'], fires_per_year['fire_count'], color='red')\n",
    "plt.xlabel('Year')\n",
    "plt.ylabel(\"Number of fires\")\n",
    "plt.title('Number of Fires per Year')\n",
    "plt.grid(axis='y', linestyle='--', alpha=0.7)\n",
    "plt.show()"
   ]
  },
  {
   "cell_type": "code",
   "execution_count": null,
   "metadata": {},
   "outputs": [],
   "source": []
  }
 ],
 "metadata": {
  "kernelspec": {
   "display_name": ".venv",
   "language": "python",
   "name": "python3"
  },
  "language_info": {
   "codemirror_mode": {
    "name": "ipython",
    "version": 3
   },
   "file_extension": ".py",
   "mimetype": "text/x-python",
   "name": "python",
   "nbconvert_exporter": "python",
   "pygments_lexer": "ipython3",
   "version": "3.13.0"
  }
 },
 "nbformat": 4,
 "nbformat_minor": 2
}
